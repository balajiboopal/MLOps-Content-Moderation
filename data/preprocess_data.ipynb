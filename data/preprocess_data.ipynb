{
 "cells": [
  {
   "cell_type": "code",
   "execution_count": 3,
   "metadata": {},
   "outputs": [
    {
     "name": "stdout",
     "output_type": "stream",
     "text": [
      "Label distribution:\n",
      " label\n",
      "0    143346\n",
      "1     16225\n",
      "Name: count, dtype: int64\n"
     ]
    }
   ],
   "source": [
    "import pandas as pd\n",
    "\n",
    "# Load dataset\n",
    "df = pd.read_csv(\"train.csv\")\n",
    "\n",
    "# Create a single 'toxic' column (if any category is 1, mark as toxic)\n",
    "df['label'] = df[['toxic', 'severe_toxic', 'obscene', 'threat', 'insult', 'identity_hate']].max(axis=1)\n",
    "\n",
    "# Keep only relevant columns\n",
    "df = df[['comment_text', 'label']]\n",
    "\n",
    "# Print the distribution\n",
    "print(\"Label distribution:\\n\", df['label'].value_counts())\n",
    "\n",
    "# Save the cleaned dataset\n",
    "df.to_csv(\"cleaned_train.csv\", index=False)\n"
   ]
  },
  {
   "cell_type": "code",
   "execution_count": 5,
   "metadata": {},
   "outputs": [
    {
     "name": "stdout",
     "output_type": "stream",
     "text": [
      "Balanced dataset saved. New distribution:\n",
      "label\n",
      "0    16225\n",
      "1    16225\n",
      "Name: count, dtype: int64\n"
     ]
    }
   ],
   "source": [
    "# Downsample non-toxic comments to balance the dataset\n",
    "df_non_toxic = df[df['label'] == 0].sample(n=len(df[df['label'] == 1]), random_state=42)\n",
    "df_toxic = df[df['label'] == 1]\n",
    "\n",
    "# Combine balanced data\n",
    "df_balanced = pd.concat([df_non_toxic, df_toxic]).sample(frac=1, random_state=42)  # Shuffle\n",
    "\n",
    "# Save the balanced dataset\n",
    "df_balanced.to_csv(\"balanced_train.csv\", index=False)\n",
    "\n",
    "print(\"Balanced dataset saved. New distribution:\")\n",
    "print(df_balanced['label'].value_counts())\n"
   ]
  },
  {
   "cell_type": "code",
   "execution_count": 7,
   "metadata": {},
   "outputs": [
    {
     "name": "stdout",
     "output_type": "stream",
     "text": [
      "Train samples: 25960, Validation samples: 6490\n"
     ]
    }
   ],
   "source": [
    "from sklearn.model_selection import train_test_split\n",
    "\n",
    "# Load the balanced dataset\n",
    "df = pd.read_csv(\"balanced_train.csv\")\n",
    "\n",
    "# Split dataset into train and validation sets (80% train, 20% validation)\n",
    "train_texts, val_texts, train_labels, val_labels = train_test_split(\n",
    "    df['comment_text'].tolist(), df['label'].tolist(), test_size=0.2, random_state=42\n",
    ")\n",
    "\n",
    "# Save split data\n",
    "pd.DataFrame({'text': train_texts, 'label': train_labels}).to_csv(\"train_split.csv\", index=False)\n",
    "pd.DataFrame({'text': val_texts, 'label': val_labels}).to_csv(\"val_split.csv\", index=False)\n",
    "\n",
    "print(f\"Train samples: {len(train_texts)}, Validation samples: {len(val_texts)}\")\n"
   ]
  },
  {
   "cell_type": "code",
   "execution_count": null,
   "metadata": {},
   "outputs": [],
   "source": []
  }
 ],
 "metadata": {
  "kernelspec": {
   "display_name": "venv",
   "language": "python",
   "name": "python3"
  },
  "language_info": {
   "codemirror_mode": {
    "name": "ipython",
    "version": 3
   },
   "file_extension": ".py",
   "mimetype": "text/x-python",
   "name": "python",
   "nbconvert_exporter": "python",
   "pygments_lexer": "ipython3",
   "version": "3.12.7"
  }
 },
 "nbformat": 4,
 "nbformat_minor": 2
}
