{
 "cells": [
  {
   "cell_type": "code",
   "execution_count": 3,
   "metadata": {},
   "outputs": [
    {
     "name": "stdout",
     "output_type": "stream",
     "text": [
      "Train Data Types:\n",
      " text     object\n",
      "label     int64\n",
      "dtype: object\n",
      "Validation Data Types:\n",
      " text     object\n",
      "label     int64\n",
      "dtype: object\n",
      "Train Sample:\n",
      "                                                 text  label\n",
      "0                             please do not reinsert      0\n",
      "1                       Category:About US\\nme and me      0\n",
      "2  Hypocritical, double standard admins, as typic...      1\n",
      "3  I see Israel's sockpuppet army (the Hasbara br...      0\n",
      "4                  please \\n\\nplease don't be a cunt      1\n",
      "Tokenization complete. Data saved.\n"
     ]
    }
   ],
   "source": [
    "import pandas as pd\n",
    "from transformers import AutoTokenizer\n",
    "\n",
    "import pandas as pd\n",
    "\n",
    "# Load train and validation data\n",
    "train_df = pd.read_csv(\"../data/train_split.csv\")\n",
    "val_df = pd.read_csv(\"../data/val_split.csv\")\n",
    "\n",
    "# Check for missing values and data types\n",
    "print(\"Train Data Types:\\n\", train_df.dtypes)\n",
    "print(\"Validation Data Types:\\n\", val_df.dtypes)\n",
    "\n",
    "# Check first few rows\n",
    "print(\"Train Sample:\\n\", train_df.head())\n",
    "\n",
    "\n",
    "# Load tokenizer\n",
    "MODEL_NAME = \"unitary/toxic-bert\"\n",
    "tokenizer = AutoTokenizer.from_pretrained(MODEL_NAME)\n",
    "\n",
    "# Ensure the text column is a list of strings\n",
    "train_texts = train_df[\"text\"].astype(str).tolist()\n",
    "val_texts = val_df[\"text\"].astype(str).tolist()\n",
    "# Tokenize function\n",
    "train_encodings = tokenizer(train_texts, truncation=True, padding=\"max_length\", max_length=128)\n",
    "val_encodings = tokenizer(val_texts, truncation=True, padding=\"max_length\", max_length=128)\n",
    "\n",
    "# Save tokenized data\n",
    "train_df['input_ids'] = train_encodings['input_ids']\n",
    "train_df['attention_mask'] = train_encodings['attention_mask']\n",
    "val_df['input_ids'] = val_encodings['input_ids']\n",
    "val_df['attention_mask'] = val_encodings['attention_mask']\n",
    "\n",
    "train_df.to_csv(\"../data/train_tokenized.csv\", index=False)\n",
    "val_df.to_csv(\"../data/val_tokenized.csv\", index=False)\n",
    "\n",
    "print(\"Tokenization complete. Data saved.\")\n"
   ]
  },
  {
   "cell_type": "code",
   "execution_count": null,
   "metadata": {},
   "outputs": [],
   "source": []
  }
 ],
 "metadata": {
  "kernelspec": {
   "display_name": "venv",
   "language": "python",
   "name": "python3"
  },
  "language_info": {
   "codemirror_mode": {
    "name": "ipython",
    "version": 3
   },
   "file_extension": ".py",
   "mimetype": "text/x-python",
   "name": "python",
   "nbconvert_exporter": "python",
   "pygments_lexer": "ipython3",
   "version": "3.12.7"
  }
 },
 "nbformat": 4,
 "nbformat_minor": 2
}
